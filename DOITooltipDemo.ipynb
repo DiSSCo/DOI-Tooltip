{
  "nbformat": 4,
  "nbformat_minor": 0,
  "metadata": {
    "colab": {
      "provenance": []
    },
    "kernelspec": {
      "name": "python3",
      "display_name": "Python 3"
    },
    "language_info": {
      "name": "python"
    }
  },
  "cells": [
    {
      "cell_type": "markdown",
      "source": [
        "**DOI Tooltip Demo**"
      ],
      "metadata": {
        "id": "r6fpCa_bnqJT"
      }
    },
    {
      "cell_type": "markdown",
      "source": [
        "This Notebook will shortly demonstrate how to implement the DiSSCo DOI Tooltip into your own application. At the moment this method is as straightforward as can be. It requires you to include the code into your own application and call it on from there. In the future, we want to look into supporting the Tooltip as a packaged dependency you can install (for example with npm)."
      ],
      "metadata": {
        "id": "h5jhzMoXpA6S"
      }
    },
    {
      "cell_type": "markdown",
      "source": [
        "Currently the tooltip is supported for:\n",
        "- HTML (plain HTML and CSS solution)\n",
        "- React (component using TypeScript)"
      ],
      "metadata": {
        "id": "BrScX70tpsu_"
      }
    },
    {
      "cell_type": "markdown",
      "source": [
        "![tooltip.png](data:image/png;base64,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)"
      ],
      "metadata": {
        "id": "ktKKj81Dr7lN"
      }
    },
    {
      "cell_type": "markdown",
      "source": [
        "**HTML**"
      ],
      "metadata": {
        "id": "9liLsH6ipz5e"
      }
    },
    {
      "cell_type": "markdown",
      "source": [
        "Copy the CSS and webroot files (images) into your application.\n",
        "\n",
        "Include the CSS file into your HTML file.\n",
        "\n",
        "Copy the HTML and Javascript of the tooltip.html file into the HTML file in which you want to use the tooltip. Since the tooltip is a fixed component, it does not matter where you paste it.\n",
        "\n",
        "Finally, add the TooltipTrigger function to the HTML component on which you want to trigger the tooltip, like so:"
      ],
      "metadata": {
        "id": "PFpBLLPap9Lq"
      }
    },
    {
      "cell_type": "code",
      "source": [
        "<span style=\"color: blue; cursor: pointer;\" onClick=\"TooltipTrigger('TEST/ZZZ-ZW5-RF7', this)\">\n",
        "  20.5000.1025/KMX-F7Q-6UX\n",
        "</span>"
      ],
      "metadata": {
        "id": "bWbUDNKrnwS9"
      },
      "execution_count": null,
      "outputs": []
    },
    {
      "cell_type": "markdown",
      "source": [
        "The first argument of the function needs to point to the DOI you want to display information from. The second argument always remains set to 'this'. This will refer to your HTML component, a span in this case, which will position the tooltip relative to it."
      ],
      "metadata": {
        "id": "iBb9PfLVrQF8"
      }
    },
    {
      "cell_type": "markdown",
      "source": [
        "All done!\n",
        "\n",
        "We know this solution requires you to copy a lot of code into one file, that is why we want to look at packaging it in the future."
      ],
      "metadata": {
        "id": "0JZUN0GjroAz"
      }
    },
    {
      "cell_type": "markdown",
      "source": [
        "**React (TypeScript)**"
      ],
      "metadata": {
        "id": "ScBk25FEwC0f"
      }
    },
    {
      "cell_type": "markdown",
      "source": [
        "Copy the DOITooltip.tsx, CSS and webroot files (images) into your application (note the file locations of the original repository).\n",
        "\n",
        "Import the DOITooltip component into the file in which you want to use it:"
      ],
      "metadata": {
        "id": "q7bnq6AwwGTP"
      }
    },
    {
      "cell_type": "code",
      "source": [
        "import DOITooltipDemo from './DOITooltipDemo';"
      ],
      "metadata": {
        "colab": {
          "base_uri": "https://localhost:8080/",
          "height": 142
        },
        "id": "0BD04Dr6wkdb",
        "outputId": "a564407f-b7fc-4fc4-b9f3-387f8a4fdef5"
      },
      "execution_count": null,
      "outputs": [
        {
          "output_type": "error",
          "ename": "SyntaxError",
          "evalue": "ignored",
          "traceback": [
            "\u001b[0;36m  File \u001b[0;32m\"<ipython-input-1-8230795325e2>\"\u001b[0;36m, line \u001b[0;32m1\u001b[0m\n\u001b[0;31m    import DOITooltipDemo from './DOITooltipDemo';\u001b[0m\n\u001b[0m                          ^\u001b[0m\n\u001b[0;31mSyntaxError\u001b[0m\u001b[0;31m:\u001b[0m invalid syntax\n"
          ]
        }
      ]
    },
    {
      "cell_type": "markdown",
      "source": [
        "Wrap the component, on which you want the tooltip to be displayed, inside the Tooltip component. The tooltip will be displayed relatively to the provided children. The component requires one attribute: doi. This defines the doi on which information will be displayed:"
      ],
      "metadata": {
        "id": "5Uf4DW9zwog-"
      }
    },
    {
      "cell_type": "code",
      "source": [
        "<DOITooltip doi={'TEST/ZZZ-ZW5-RF7'}>\n",
        "  <span>\n",
        "    TEST/ZZZ-ZW5-RF7\n",
        "  </span>\n",
        "</DOITooltip>"
      ],
      "metadata": {
        "id": "nm5STje0xGrJ"
      },
      "execution_count": null,
      "outputs": []
    },
    {
      "cell_type": "markdown",
      "source": [
        "All done! You should be able to see the tooltip wheb you click on the child element in the rendered view.\n",
        "\n",
        "We know this solution requires you to manually include the code files into your application. That is why in the future we want to look at making this a npm package that can be installed."
      ],
      "metadata": {
        "id": "VyVQ4eNHxOXD"
      }
    }
  ]
}